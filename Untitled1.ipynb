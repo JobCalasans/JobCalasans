{
  "nbformat": 4,
  "nbformat_minor": 0,
  "metadata": {
    "colab": {
      "provenance": [],
      "authorship_tag": "ABX9TyO12ixntdLuxtJp5pPriaHk",
      "include_colab_link": true
    },
    "kernelspec": {
      "name": "python3",
      "display_name": "Python 3"
    },
    "language_info": {
      "name": "python"
    }
  },
  "cells": [
    {
      "cell_type": "markdown",
      "metadata": {
        "id": "view-in-github",
        "colab_type": "text"
      },
      "source": [
        "<a href=\"https://colab.research.google.com/github/JobCalasans/JobCalasans/blob/main/Untitled1.ipynb\" target=\"_parent\"><img src=\"https://colab.research.google.com/assets/colab-badge.svg\" alt=\"Open In Colab\"/></a>"
      ]
    },
    {
      "cell_type": "markdown",
      "source": [
        "#**Desenvolvimento de API REST com FastAPI**"
      ],
      "metadata": {
        "id": "-xADFmT77_Hi"
      }
    },
    {
      "cell_type": "markdown",
      "source": [
        "#**Instalação**"
      ],
      "metadata": {
        "id": "KNYX9O9Z8GLA"
      }
    },
    {
      "cell_type": "code",
      "source": [
        "!pip install colabcode -q\n",
        "!pip install fastapi -q"
      ],
      "metadata": {
        "colab": {
          "base_uri": "https://localhost:8080/"
        },
        "id": "pDdfly4i5RpU",
        "outputId": "f997930e-f532-4596-a7bb-7b805f2b91ab"
      },
      "execution_count": 1,
      "outputs": [
        {
          "output_type": "stream",
          "name": "stdout",
          "text": [
            "\u001b[2K     \u001b[90m━━━━━━━━━━━━━━━━━━━━━━━━━━━━━━━━━━━━━━━━\u001b[0m \u001b[32m8.3/8.3 MB\u001b[0m \u001b[31m35.7 MB/s\u001b[0m eta \u001b[36m0:00:00\u001b[0m\n",
            "\u001b[2K     \u001b[90m━━━━━━━━━━━━━━━━━━━━━━━━━━━━━━━━━━━━━━\u001b[0m \u001b[32m681.2/681.2 kB\u001b[0m \u001b[31m17.7 MB/s\u001b[0m eta \u001b[36m0:00:00\u001b[0m\n",
            "\u001b[?25h  Preparing metadata (setup.py) ... \u001b[?25l\u001b[?25hdone\n",
            "\u001b[2K     \u001b[90m━━━━━━━━━━━━━━━━━━━━━━━━━━━━━━━━━━━━━━━━\u001b[0m \u001b[32m45.5/45.5 kB\u001b[0m \u001b[31m2.2 MB/s\u001b[0m eta \u001b[36m0:00:00\u001b[0m\n",
            "\u001b[2K     \u001b[90m━━━━━━━━━━━━━━━━━━━━━━━━━━━━━━━━━━━━━━━━\u001b[0m \u001b[32m57.0/57.0 kB\u001b[0m \u001b[31m3.1 MB/s\u001b[0m eta \u001b[36m0:00:00\u001b[0m\n",
            "\u001b[2K     \u001b[90m━━━━━━━━━━━━━━━━━━━━━━━━━━━━━━━━━━━━━━━━\u001b[0m \u001b[32m10.0/10.0 MB\u001b[0m \u001b[31m24.4 MB/s\u001b[0m eta \u001b[36m0:00:00\u001b[0m\n",
            "\u001b[2K     \u001b[90m━━━━━━━━━━━━━━━━━━━━━━━━━━━━━━━━━━━━━━━━\u001b[0m \u001b[32m58.3/58.3 kB\u001b[0m \u001b[31m2.0 MB/s\u001b[0m eta \u001b[36m0:00:00\u001b[0m\n",
            "\u001b[2K     \u001b[90m━━━━━━━━━━━━━━━━━━━━━━━━━━━━━━━━━━━━━━━━\u001b[0m \u001b[32m82.8/82.8 kB\u001b[0m \u001b[31m3.6 MB/s\u001b[0m eta \u001b[36m0:00:00\u001b[0m\n",
            "\u001b[2K     \u001b[90m━━━━━━━━━━━━━━━━━━━━━━━━━━━━━━━━━━━━━━━━\u001b[0m \u001b[32m62.5/62.5 kB\u001b[0m \u001b[31m1.8 MB/s\u001b[0m eta \u001b[36m0:00:00\u001b[0m\n",
            "\u001b[2K     \u001b[90m━━━━━━━━━━━━━━━━━━━━━━━━━━━━━━━━━━━━━━━━\u001b[0m \u001b[32m90.4/90.4 kB\u001b[0m \u001b[31m4.1 MB/s\u001b[0m eta \u001b[36m0:00:00\u001b[0m\n",
            "\u001b[2K     \u001b[90m━━━━━━━━━━━━━━━━━━━━━━━━━━━━━━━━━━━━━━━━\u001b[0m \u001b[32m10.0/10.0 MB\u001b[0m \u001b[31m21.1 MB/s\u001b[0m eta \u001b[36m0:00:00\u001b[0m\n",
            "\u001b[2K     \u001b[90m━━━━━━━━━━━━━━━━━━━━━━━━━━━━━━━━━━━━━━━━\u001b[0m \u001b[32m10.0/10.0 MB\u001b[0m \u001b[31m43.2 MB/s\u001b[0m eta \u001b[36m0:00:00\u001b[0m\n",
            "\u001b[2K     \u001b[90m━━━━━━━━━━━━━━━━━━━━━━━━━━━━━━━━━━━━━━━━\u001b[0m \u001b[32m10.0/10.0 MB\u001b[0m \u001b[31m56.5 MB/s\u001b[0m eta \u001b[36m0:00:00\u001b[0m\n",
            "\u001b[2K     \u001b[90m━━━━━━━━━━━━━━━━━━━━━━━━━━━━━━━━━━━━━━━━\u001b[0m \u001b[32m10.0/10.0 MB\u001b[0m \u001b[31m59.7 MB/s\u001b[0m eta \u001b[36m0:00:00\u001b[0m\n",
            "\u001b[2K     \u001b[90m━━━━━━━━━━━━━━━━━━━━━━━━━━━━━━━━━━━━━━━━\u001b[0m \u001b[32m10.0/10.0 MB\u001b[0m \u001b[31m51.9 MB/s\u001b[0m eta \u001b[36m0:00:00\u001b[0m\n",
            "\u001b[2K     \u001b[90m━━━━━━━━━━━━━━━━━━━━━━━━━━━━━━━━━━━━━━━━\u001b[0m \u001b[32m9.8/9.8 MB\u001b[0m \u001b[31m58.8 MB/s\u001b[0m eta \u001b[36m0:00:00\u001b[0m\n",
            "\u001b[2K     \u001b[90m━━━━━━━━━━━━━━━━━━━━━━━━━━━━━━━━━━━━━━━━\u001b[0m \u001b[32m9.8/9.8 MB\u001b[0m \u001b[31m58.8 MB/s\u001b[0m eta \u001b[36m0:00:00\u001b[0m\n",
            "\u001b[2K     \u001b[90m━━━━━━━━━━━━━━━━━━━━━━━━━━━━━━━━━━━━━━━━\u001b[0m \u001b[32m9.8/9.8 MB\u001b[0m \u001b[31m20.6 MB/s\u001b[0m eta \u001b[36m0:00:00\u001b[0m\n",
            "\u001b[2K     \u001b[90m━━━━━━━━━━━━━━━━━━━━━━━━━━━━━━━━━━━━━━━━\u001b[0m \u001b[32m9.8/9.8 MB\u001b[0m \u001b[31m58.6 MB/s\u001b[0m eta \u001b[36m0:00:00\u001b[0m\n",
            "\u001b[2K     \u001b[90m━━━━━━━━━━━━━━━━━━━━━━━━━━━━━━━━━━━━━━━━\u001b[0m \u001b[32m9.8/9.8 MB\u001b[0m \u001b[31m52.7 MB/s\u001b[0m eta \u001b[36m0:00:00\u001b[0m\n",
            "\u001b[2K     \u001b[90m━━━━━━━━━━━━━━━━━━━━━━━━━━━━━━━━━━━━━━━━\u001b[0m \u001b[32m9.7/9.7 MB\u001b[0m \u001b[31m52.7 MB/s\u001b[0m eta \u001b[36m0:00:00\u001b[0m\n",
            "\u001b[2K     \u001b[90m━━━━━━━━━━━━━━━━━━━━━━━━━━━━━━━━━━━━━━━━\u001b[0m \u001b[32m9.7/9.7 MB\u001b[0m \u001b[31m44.8 MB/s\u001b[0m eta \u001b[36m0:00:00\u001b[0m\n",
            "\u001b[2K     \u001b[90m━━━━━━━━━━━━━━━━━━━━━━━━━━━━━━━━━━━━━━━━\u001b[0m \u001b[32m9.7/9.7 MB\u001b[0m \u001b[31m58.8 MB/s\u001b[0m eta \u001b[36m0:00:00\u001b[0m\n",
            "\u001b[2K     \u001b[90m━━━━━━━━━━━━━━━━━━━━━━━━━━━━━━━━━━━━━━━━\u001b[0m \u001b[32m1.6/1.6 MB\u001b[0m \u001b[31m48.1 MB/s\u001b[0m eta \u001b[36m0:00:00\u001b[0m\n",
            "\u001b[2K     \u001b[90m━━━━━━━━━━━━━━━━━━━━━━━━━━━━━━━━━━━━━━\u001b[0m \u001b[32m529.8/529.8 kB\u001b[0m \u001b[31m23.1 MB/s\u001b[0m eta \u001b[36m0:00:00\u001b[0m\n",
            "\u001b[2K     \u001b[90m━━━━━━━━━━━━━━━━━━━━━━━━━━━━━━━━━━━━━━\u001b[0m \u001b[32m529.7/529.7 kB\u001b[0m \u001b[31m24.7 MB/s\u001b[0m eta \u001b[36m0:00:00\u001b[0m\n",
            "\u001b[2K     \u001b[90m━━━━━━━━━━━━━━━━━━━━━━━━━━━━━━━━━━━━━━\u001b[0m \u001b[32m439.1/439.1 kB\u001b[0m \u001b[31m20.4 MB/s\u001b[0m eta \u001b[36m0:00:00\u001b[0m\n",
            "\u001b[2K     \u001b[90m━━━━━━━━━━━━━━━━━━━━━━━━━━━━━━━━━━━━━━\u001b[0m \u001b[32m439.1/439.1 kB\u001b[0m \u001b[31m23.7 MB/s\u001b[0m eta \u001b[36m0:00:00\u001b[0m\n",
            "\u001b[2K     \u001b[90m━━━━━━━━━━━━━━━━━━━━━━━━━━━━━━━━━━━━━━━━\u001b[0m \u001b[32m9.9/9.9 MB\u001b[0m \u001b[31m61.4 MB/s\u001b[0m eta \u001b[36m0:00:00\u001b[0m\n",
            "\u001b[2K     \u001b[90m━━━━━━━━━━━━━━━━━━━━━━━━━━━━━━━━━━━━━━━━\u001b[0m \u001b[32m9.9/9.9 MB\u001b[0m \u001b[31m45.9 MB/s\u001b[0m eta \u001b[36m0:00:00\u001b[0m\n",
            "\u001b[2K     \u001b[90m━━━━━━━━━━━━━━━━━━━━━━━━━━━━━━━━━━━━━━━━\u001b[0m \u001b[32m9.9/9.9 MB\u001b[0m \u001b[31m39.2 MB/s\u001b[0m eta \u001b[36m0:00:00\u001b[0m\n",
            "\u001b[2K     \u001b[90m━━━━━━━━━━━━━━━━━━━━━━━━━━━━━━━━━━━━━━━━\u001b[0m \u001b[32m9.9/9.9 MB\u001b[0m \u001b[31m17.3 MB/s\u001b[0m eta \u001b[36m0:00:00\u001b[0m\n",
            "\u001b[2K     \u001b[90m━━━━━━━━━━━━━━━━━━━━━━━━━━━━━━━━━━━━━━━━\u001b[0m \u001b[32m9.9/9.9 MB\u001b[0m \u001b[31m49.5 MB/s\u001b[0m eta \u001b[36m0:00:00\u001b[0m\n",
            "\u001b[2K     \u001b[90m━━━━━━━━━━━━━━━━━━━━━━━━━━━━━━━━━━━━━━━━\u001b[0m \u001b[32m9.9/9.9 MB\u001b[0m \u001b[31m53.4 MB/s\u001b[0m eta \u001b[36m0:00:00\u001b[0m\n",
            "\u001b[2K     \u001b[90m━━━━━━━━━━━━━━━━━━━━━━━━━━━━━━━━━━━━━━━━\u001b[0m \u001b[32m9.9/9.9 MB\u001b[0m \u001b[31m47.8 MB/s\u001b[0m eta \u001b[36m0:00:00\u001b[0m\n",
            "\u001b[?25h  Building wheel for pyngrok (setup.py) ... \u001b[?25l\u001b[?25hdone\n",
            "\u001b[31mERROR: pip's dependency resolver does not currently take into account all the packages that are installed. This behaviour is the source of the following dependency conflicts.\n",
            "google-colab 1.0.0 requires notebook==6.4.8, but you have notebook 6.4.5 which is incompatible.\n",
            "flask 2.2.4 requires click>=8.0, but you have click 7.1.2 which is incompatible.\u001b[0m\u001b[31m\n",
            "\u001b[2K     \u001b[90m━━━━━━━━━━━━━━━━━━━━━━━━━━━━━━━━━━━━━━━━\u001b[0m \u001b[32m57.0/57.0 kB\u001b[0m \u001b[31m2.2 MB/s\u001b[0m eta \u001b[36m0:00:00\u001b[0m\n",
            "\u001b[2K     \u001b[90m━━━━━━━━━━━━━━━━━━━━━━━━━━━━━━━━━━━━━━━━\u001b[0m \u001b[32m66.9/66.9 kB\u001b[0m \u001b[31m5.9 MB/s\u001b[0m eta \u001b[36m0:00:00\u001b[0m\n",
            "\u001b[?25h"
          ]
        }
      ]
    },
    {
      "cell_type": "markdown",
      "source": [
        "#**Importação**"
      ],
      "metadata": {
        "id": "bW0MfENY8IvY"
      }
    },
    {
      "cell_type": "code",
      "source": [
        "from colabcode import ColabCode \n",
        "from fastapi import FastAPI \n",
        "\"\"\"\n",
        "Permite que uma aplicação Web seja executada numa origem e acesse recursos de \n",
        "outra origem diferente.\n",
        "\"\"\"\n",
        "from fastapi.middleware.cors import CORSMiddleware \n",
        "from pyngrok import ngrok \n",
        "from pydantic import BaseModel\n",
        "from typing import List\n",
        "import sqlite3 \n",
        "from sqlite3 import Error"
      ],
      "metadata": {
        "id": "aXxtudWS6e07"
      },
      "execution_count": 2,
      "outputs": []
    },
    {
      "cell_type": "markdown",
      "source": [
        "#**Atutenticação**"
      ],
      "metadata": {
        "id": "GxSSYv6u9QOQ"
      }
    },
    {
      "cell_type": "code",
      "source": [
        "# Copiar o token de autenticação no site do ngrok:\n",
        "ngrok.set_auth_token(\"2PPvqIVSpzl5W96ghVTMshju8Ir_7jqg2Hj5VGfnnT3CNPmqd\")"
      ],
      "metadata": {
        "colab": {
          "base_uri": "https://localhost:8080/"
        },
        "id": "0Xp1lA-N9WNs",
        "outputId": "5217d150-177a-429e-a210-52dedcd992d3"
      },
      "execution_count": 3,
      "outputs": [
        {
          "output_type": "stream",
          "name": "stdout",
          "text": []
        }
      ]
    },
    {
      "cell_type": "markdown",
      "source": [
        "#**Banco de Dados**"
      ],
      "metadata": {
        "id": "YBx4641hVXPO"
      }
    },
    {
      "cell_type": "code",
      "source": [
        "# Criar conexão com o Banco de Dados:\n",
        "try:\n",
        "  datasource = sqlite3.connect('produto.db')\n",
        "except Error as e:\n",
        "  print(e)\n"
      ],
      "metadata": {
        "id": "LD8qK_NyVdxU"
      },
      "execution_count": 4,
      "outputs": []
    },
    {
      "cell_type": "code",
      "source": [
        "# Retornar um cursos:\n",
        "with datasource:\n",
        "  cursor = datasource.cursor()"
      ],
      "metadata": {
        "id": "Z8gIgV7WV7ms"
      },
      "execution_count": 5,
      "outputs": []
    },
    {
      "cell_type": "code",
      "source": [
        "from typing_extensions import dataclass_transform\n",
        "# DDL: Data Definition Language\n",
        "ddl = \"\"\"\n",
        "   create table produto (\n",
        "      produto_id integer primary key autoincrement,\n",
        "      nome varchar(100) not null,\n",
        "      descricao varchar(200) not null,\n",
        "      preco real,\n",
        "      imposto real\n",
        "   )\n",
        "\"\"\"\n",
        "\n",
        "with datasource:\n",
        "  cursor.execute(ddl)\n"
      ],
      "metadata": {
        "id": "fjL3ZDR2Wu4N"
      },
      "execution_count": 6,
      "outputs": []
    },
    {
      "cell_type": "code",
      "source": [
        "# DML: Data Manipulation Language\n",
        "dml = \"insert into produto (nome, descricao, preco, imposto) values (?,?,?,?)\"\n",
        "\n",
        "with datasource:\n",
        "  cursor.execute(dml, ('arroz', 'integral', 9.87, 1))\n",
        "  datasource.commit()\n",
        "\n",
        "produtos = [\n",
        "  ('feijao', 'carioca', 10, 0.5),\n",
        "  ('açucar', 'refinado', 14.23, 1.5)\n",
        "]\n",
        "\n",
        "# SQL: Structered Query Language\n",
        "with datasource:\n",
        "  for produto in produtos:\n",
        "    cursor.execute(dml, produto)\n",
        "  \n",
        "  sql = \"select * from produto\"\n",
        "  produtos = cursor.execute(sql)\n",
        "  for produto in produtos:\n",
        "    print(produto)"
      ],
      "metadata": {
        "colab": {
          "base_uri": "https://localhost:8080/"
        },
        "id": "fN0My7CDZwpV",
        "outputId": "af68c13c-d290-4839-83a6-479f18e3a622"
      },
      "execution_count": 7,
      "outputs": [
        {
          "output_type": "stream",
          "name": "stdout",
          "text": [
            "(1, 'arroz', 'integral', 9.87, 1.0)\n",
            "(2, 'feijao', 'carioca', 10.0, 0.5)\n",
            "(3, 'açucar', 'refinado', 14.23, 1.5)\n"
          ]
        }
      ]
    },
    {
      "cell_type": "code",
      "source": [
        "dml = \"update produto set nome = ?, descricao = ?, preco = ?, imposto = ? where produto_id = ?\"\n",
        "\n",
        "with datasource:\n",
        "  cursor.execute(dml, ('leite', 'desnatado', 5.29, 0.27, 1))\n",
        "  datasource.commit()\n",
        "\n",
        "  sql = \"select * from produto\"\n",
        "  produtos = cursor.execute(sql)\n",
        "  for produto in produtos:\n",
        "    print(produto)"
      ],
      "metadata": {
        "colab": {
          "base_uri": "https://localhost:8080/"
        },
        "id": "yLoX8RiydP7B",
        "outputId": "ebbd7747-043f-4c0b-986f-d1c09d727745"
      },
      "execution_count": 8,
      "outputs": [
        {
          "output_type": "stream",
          "name": "stdout",
          "text": [
            "(1, 'leite', 'desnatado', 5.29, 0.27)\n",
            "(2, 'feijao', 'carioca', 10.0, 0.5)\n",
            "(3, 'açucar', 'refinado', 14.23, 1.5)\n"
          ]
        }
      ]
    },
    {
      "cell_type": "code",
      "source": [
        "id = 1\n",
        "dml = f\"delete from produto where produto_id = {id}\"\n",
        "\n",
        "with datasource:\n",
        "  cursor.execute(dml)\n",
        "  datasource.commit()\n",
        "\n",
        "  sql = \"select * from produto\"\n",
        "  produtos = cursor.execute(sql)\n",
        "  for produto in produtos:\n",
        "    print(produto)"
      ],
      "metadata": {
        "colab": {
          "base_uri": "https://localhost:8080/"
        },
        "id": "pRd2eXkXgK96",
        "outputId": "7c6c9b67-613a-4a09-d938-2b6797a839af"
      },
      "execution_count": 9,
      "outputs": [
        {
          "output_type": "stream",
          "name": "stdout",
          "text": [
            "(2, 'feijao', 'carioca', 10.0, 0.5)\n",
            "(3, 'açucar', 'refinado', 14.23, 1.5)\n"
          ]
        }
      ]
    },
    {
      "cell_type": "markdown",
      "source": [
        "#**API**"
      ],
      "metadata": {
        "id": "T6r5fJcI9hpo"
      }
    },
    {
      "cell_type": "code",
      "source": [
        "'''\n",
        "Métodos do protocolo HTTP (CRUD):\n",
        " POST: criar (enviar) dados no servidor (create).\n",
        " GET: ler dados (read).\n",
        " PUT: atualizar dados no servidor (update).\n",
        " DELETE: remover dados no servidor (delete)\n",
        "'''\n",
        "app = FastAPI()\n",
        "\n",
        "app.add_middleware(\n",
        "    CORSMiddleware,\n",
        "    allow_origins=['*'],\n",
        "    allow_credentials=True,\n",
        "    allow_methods=['*'],\n",
        "    allow_headers=['*'],\n",
        ")\n",
        "\n",
        "class Item(BaseModel):\n",
        "  nome: str\n",
        "  descrição: str | None\n",
        "  preco: float | None\n",
        "  imposto: float | None\n",
        "  categorias: List[str] | None\n",
        "\n",
        "@app.get(\"/\")\n",
        "async def cumprimentar():\n",
        "  return {\"mensagem\": \"Olá, Mundo!\"}\n",
        "\n",
        "@app.post(\"/body/itens\")\n",
        "async def criar_item(item: Item):\n",
        "  return item\n",
        "\n",
        "@app.post(\"/path/itens/{item_id}\")\n",
        "async def proximo_item_id_a_partir_do_path(item_id: int):\n",
        "  return {\"próximo_id\": item_id + 1}\n",
        "\n",
        "@app.post(\"/body/path/itens/{item_id}\")\n",
        "async def criar_item_id_a_partir_do_body_path(item_id: int, item: Item):\n",
        "  item_dict = item.dict()\n",
        "  resp = {\"id\": item_id, **item.dict}\n",
        "  return resp\n",
        "\n",
        "@app.post(\"/query-string/item\")\n",
        "async def criar_item_id_a_partir_do_query_path(item_id: int, str):\n",
        "  resp = {\"query-string\": \"não infromado\"}\n",
        "  if item_id:\n",
        "     resp = {\"query-string\": item_id}\n",
        "  return resp\n",
        "\n",
        "@app.post(\"/query-string/path/body/item/{path_item_id}\")\n",
        "async def criar_item_id_a_partir_do_query_string_do_path_e_do_body(query_string_item_id: str, path_item_id: int, item: Item):\n",
        "  resp = {\"path_item_id\": path_item_id, **item.dict()}\n",
        "  if query_string_item_id:\n",
        "     resp.update({\"query-string-item-id\": query_string_item_id})\n",
        "  return resp  "
      ],
      "metadata": {
        "id": "J40sjCSQ9lsK"
      },
      "execution_count": 10,
      "outputs": []
    },
    {
      "cell_type": "markdown",
      "source": [
        "#**Executar**"
      ],
      "metadata": {
        "id": "wtQ0U9Vp_0jt"
      }
    },
    {
      "cell_type": "code",
      "source": [
        "cc = ColabCode(port=12000, code=False)\n",
        "cc.run_app(app=app)"
      ],
      "metadata": {
        "colab": {
          "base_uri": "https://localhost:8080/"
        },
        "id": "tTJXhate_4T3",
        "outputId": "02af10c3-6d06-423a-fd9d-3620011d0a07"
      },
      "execution_count": 11,
      "outputs": [
        {
          "output_type": "stream",
          "name": "stderr",
          "text": [
            "WARNING:pyngrok.process.ngrok:t=2023-05-06T14:56:21+0000 lvl=warn msg=\"ngrok config file found at legacy location, move to XDG location\" xdg_path=/root/.config/ngrok/ngrok.yml legacy_path=/root/.ngrok2/ngrok.yml\n",
            "INFO:     Started server process [672]\n",
            "INFO:uvicorn.error:Started server process [672]\n",
            "INFO:     Waiting for application startup.\n",
            "INFO:uvicorn.error:Waiting for application startup.\n",
            "INFO:     Application startup complete.\n",
            "INFO:uvicorn.error:Application startup complete.\n",
            "INFO:     Uvicorn running on http://127.0.0.1:12000 (Press CTRL+C to quit)\n",
            "INFO:uvicorn.error:Uvicorn running on http://127.0.0.1:12000 (Press CTRL+C to quit)\n"
          ]
        },
        {
          "output_type": "stream",
          "name": "stdout",
          "text": [
            "Public URL: NgrokTunnel: \"https://2567-104-196-49-139.ngrok-free.app\" -> \"http://localhost:12000\"\n"
          ]
        },
        {
          "output_type": "stream",
          "name": "stderr",
          "text": [
            "INFO:     Shutting down\n",
            "INFO:uvicorn.error:Shutting down\n",
            "INFO:     Waiting for application shutdown.\n",
            "INFO:uvicorn.error:Waiting for application shutdown.\n",
            "INFO:     Application shutdown complete.\n",
            "INFO:uvicorn.error:Application shutdown complete.\n",
            "INFO:     Finished server process [672]\n",
            "INFO:uvicorn.error:Finished server process [672]\n"
          ]
        }
      ]
    }
  ]
}