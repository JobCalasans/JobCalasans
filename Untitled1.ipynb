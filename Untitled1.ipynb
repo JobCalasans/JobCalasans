{
  "nbformat": 4,
  "nbformat_minor": 0,
  "metadata": {
    "colab": {
      "provenance": [],
      "authorship_tag": "ABX9TyPwcDoKphtH0FrNWUMYyJ1r",
      "include_colab_link": true
    },
    "kernelspec": {
      "name": "python3",
      "display_name": "Python 3"
    },
    "language_info": {
      "name": "python"
    }
  },
  "cells": [
    {
      "cell_type": "markdown",
      "metadata": {
        "id": "view-in-github",
        "colab_type": "text"
      },
      "source": [
        "<a href=\"https://colab.research.google.com/github/JobCalasans/JobCalasans/blob/main/Untitled1.ipynb\" target=\"_parent\"><img src=\"https://colab.research.google.com/assets/colab-badge.svg\" alt=\"Open In Colab\"/></a>"
      ]
    },
    {
      "cell_type": "markdown",
      "source": [
        "#**Desenvolvimento de API REST com FastAPI**"
      ],
      "metadata": {
        "id": "-xADFmT77_Hi"
      }
    },
    {
      "cell_type": "markdown",
      "source": [
        "#**Instalação**"
      ],
      "metadata": {
        "id": "KNYX9O9Z8GLA"
      }
    },
    {
      "cell_type": "code",
      "source": [
        "!pip install colabcode -q\n",
        "!pip install fastapi -q"
      ],
      "metadata": {
        "colab": {
          "base_uri": "https://localhost:8080/"
        },
        "id": "pDdfly4i5RpU",
        "outputId": "b7336294-717b-4744-b8cc-25dd41946784"
      },
      "execution_count": 3,
      "outputs": [
        {
          "output_type": "stream",
          "name": "stdout",
          "text": [
            "\u001b[?25l     \u001b[90m━━━━━━━━━━━━━━━━━━━━━━━━━━━━━━━━━━━━━━━━\u001b[0m \u001b[32m0.0/681.2 kB\u001b[0m \u001b[31m?\u001b[0m eta \u001b[36m-:--:--\u001b[0m\r\u001b[2K     \u001b[91m━━━━━━━━━━━━━━━━━━━━━━━━━━━━━━━━━━━━━\u001b[0m\u001b[91m╸\u001b[0m \u001b[32m675.8/681.2 kB\u001b[0m \u001b[31m23.6 MB/s\u001b[0m eta \u001b[36m0:00:01\u001b[0m\r\u001b[2K     \u001b[90m━━━━━━━━━━━━━━━━━━━━━━━━━━━━━━━━━━━━━━\u001b[0m \u001b[32m681.2/681.2 kB\u001b[0m \u001b[31m15.5 MB/s\u001b[0m eta \u001b[36m0:00:00\u001b[0m\n",
            "\u001b[?25h  Preparing metadata (setup.py) ... \u001b[?25l\u001b[?25hdone\n",
            "\u001b[2K     \u001b[90m━━━━━━━━━━━━━━━━━━━━━━━━━━━━━━━━━━━━━━━━\u001b[0m \u001b[32m8.3/8.3 MB\u001b[0m \u001b[31m50.5 MB/s\u001b[0m eta \u001b[36m0:00:00\u001b[0m\n",
            "\u001b[2K     \u001b[90m━━━━━━━━━━━━━━━━━━━━━━━━━━━━━━━━━━━━━━━━\u001b[0m \u001b[32m45.5/45.5 kB\u001b[0m \u001b[31m3.9 MB/s\u001b[0m eta \u001b[36m0:00:00\u001b[0m\n",
            "\u001b[2K     \u001b[90m━━━━━━━━━━━━━━━━━━━━━━━━━━━━━━━━━━━━━━━━\u001b[0m \u001b[32m10.0/10.0 MB\u001b[0m \u001b[31m58.1 MB/s\u001b[0m eta \u001b[36m0:00:00\u001b[0m\n",
            "\u001b[2K     \u001b[90m━━━━━━━━━━━━━━━━━━━━━━━━━━━━━━━━━━━━━━━━\u001b[0m \u001b[32m57.0/57.0 kB\u001b[0m \u001b[31m5.0 MB/s\u001b[0m eta \u001b[36m0:00:00\u001b[0m\n",
            "\u001b[2K     \u001b[90m━━━━━━━━━━━━━━━━━━━━━━━━━━━━━━━━━━━━━━━━\u001b[0m \u001b[32m82.8/82.8 kB\u001b[0m \u001b[31m7.9 MB/s\u001b[0m eta \u001b[36m0:00:00\u001b[0m\n",
            "\u001b[2K     \u001b[90m━━━━━━━━━━━━━━━━━━━━━━━━━━━━━━━━━━━━━━━━\u001b[0m \u001b[32m58.3/58.3 kB\u001b[0m \u001b[31m5.8 MB/s\u001b[0m eta \u001b[36m0:00:00\u001b[0m\n",
            "\u001b[2K     \u001b[90m━━━━━━━━━━━━━━━━━━━━━━━━━━━━━━━━━━━━━━━━\u001b[0m \u001b[32m62.5/62.5 kB\u001b[0m \u001b[31m6.0 MB/s\u001b[0m eta \u001b[36m0:00:00\u001b[0m\n",
            "\u001b[2K     \u001b[90m━━━━━━━━━━━━━━━━━━━━━━━━━━━━━━━━━━━━━━━━\u001b[0m \u001b[32m90.4/90.4 kB\u001b[0m \u001b[31m7.9 MB/s\u001b[0m eta \u001b[36m0:00:00\u001b[0m\n",
            "\u001b[2K     \u001b[90m━━━━━━━━━━━━━━━━━━━━━━━━━━━━━━━━━━━━━━━━\u001b[0m \u001b[32m10.0/10.0 MB\u001b[0m \u001b[31m72.8 MB/s\u001b[0m eta \u001b[36m0:00:00\u001b[0m\n",
            "\u001b[2K     \u001b[90m━━━━━━━━━━━━━━━━━━━━━━━━━━━━━━━━━━━━━━━━\u001b[0m \u001b[32m10.0/10.0 MB\u001b[0m \u001b[31m78.0 MB/s\u001b[0m eta \u001b[36m0:00:00\u001b[0m\n",
            "\u001b[2K     \u001b[90m━━━━━━━━━━━━━━━━━━━━━━━━━━━━━━━━━━━━━━━━\u001b[0m \u001b[32m10.0/10.0 MB\u001b[0m \u001b[31m82.0 MB/s\u001b[0m eta \u001b[36m0:00:00\u001b[0m\n",
            "\u001b[2K     \u001b[90m━━━━━━━━━━━━━━━━━━━━━━━━━━━━━━━━━━━━━━━━\u001b[0m \u001b[32m10.0/10.0 MB\u001b[0m \u001b[31m82.9 MB/s\u001b[0m eta \u001b[36m0:00:00\u001b[0m\n",
            "\u001b[2K     \u001b[90m━━━━━━━━━━━━━━━━━━━━━━━━━━━━━━━━━━━━━━━━\u001b[0m \u001b[32m10.0/10.0 MB\u001b[0m \u001b[31m79.1 MB/s\u001b[0m eta \u001b[36m0:00:00\u001b[0m\n",
            "\u001b[2K     \u001b[90m━━━━━━━━━━━━━━━━━━━━━━━━━━━━━━━━━━━━━━━━\u001b[0m \u001b[32m9.8/9.8 MB\u001b[0m \u001b[31m66.8 MB/s\u001b[0m eta \u001b[36m0:00:00\u001b[0m\n",
            "\u001b[2K     \u001b[90m━━━━━━━━━━━━━━━━━━━━━━━━━━━━━━━━━━━━━━━━\u001b[0m \u001b[32m9.8/9.8 MB\u001b[0m \u001b[31m77.5 MB/s\u001b[0m eta \u001b[36m0:00:00\u001b[0m\n",
            "\u001b[2K     \u001b[90m━━━━━━━━━━━━━━━━━━━━━━━━━━━━━━━━━━━━━━━━\u001b[0m \u001b[32m9.8/9.8 MB\u001b[0m \u001b[31m20.8 MB/s\u001b[0m eta \u001b[36m0:00:00\u001b[0m\n",
            "\u001b[2K     \u001b[90m━━━━━━━━━━━━━━━━━━━━━━━━━━━━━━━━━━━━━━━━\u001b[0m \u001b[32m9.8/9.8 MB\u001b[0m \u001b[31m78.5 MB/s\u001b[0m eta \u001b[36m0:00:00\u001b[0m\n",
            "\u001b[2K     \u001b[90m━━━━━━━━━━━━━━━━━━━━━━━━━━━━━━━━━━━━━━━━\u001b[0m \u001b[32m9.8/9.8 MB\u001b[0m \u001b[31m44.1 MB/s\u001b[0m eta \u001b[36m0:00:00\u001b[0m\n",
            "\u001b[2K     \u001b[90m━━━━━━━━━━━━━━━━━━━━━━━━━━━━━━━━━━━━━━━━\u001b[0m \u001b[32m9.7/9.7 MB\u001b[0m \u001b[31m73.4 MB/s\u001b[0m eta \u001b[36m0:00:00\u001b[0m\n",
            "\u001b[2K     \u001b[90m━━━━━━━━━━━━━━━━━━━━━━━━━━━━━━━━━━━━━━━━\u001b[0m \u001b[32m9.7/9.7 MB\u001b[0m \u001b[31m79.0 MB/s\u001b[0m eta \u001b[36m0:00:00\u001b[0m\n",
            "\u001b[2K     \u001b[90m━━━━━━━━━━━━━━━━━━━━━━━━━━━━━━━━━━━━━━━━\u001b[0m \u001b[32m9.7/9.7 MB\u001b[0m \u001b[31m80.9 MB/s\u001b[0m eta \u001b[36m0:00:00\u001b[0m\n",
            "\u001b[2K     \u001b[90m━━━━━━━━━━━━━━━━━━━━━━━━━━━━━━━━━━━━━━━━\u001b[0m \u001b[32m1.6/1.6 MB\u001b[0m \u001b[31m65.2 MB/s\u001b[0m eta \u001b[36m0:00:00\u001b[0m\n",
            "\u001b[2K     \u001b[90m━━━━━━━━━━━━━━━━━━━━━━━━━━━━━━━━━━━━━━\u001b[0m \u001b[32m529.8/529.8 kB\u001b[0m \u001b[31m36.1 MB/s\u001b[0m eta \u001b[36m0:00:00\u001b[0m\n",
            "\u001b[2K     \u001b[90m━━━━━━━━━━━━━━━━━━━━━━━━━━━━━━━━━━━━━━\u001b[0m \u001b[32m529.7/529.7 kB\u001b[0m \u001b[31m31.6 MB/s\u001b[0m eta \u001b[36m0:00:00\u001b[0m\n",
            "\u001b[2K     \u001b[90m━━━━━━━━━━━━━━━━━━━━━━━━━━━━━━━━━━━━━━\u001b[0m \u001b[32m439.1/439.1 kB\u001b[0m \u001b[31m29.8 MB/s\u001b[0m eta \u001b[36m0:00:00\u001b[0m\n",
            "\u001b[2K     \u001b[90m━━━━━━━━━━━━━━━━━━━━━━━━━━━━━━━━━━━━━━\u001b[0m \u001b[32m439.1/439.1 kB\u001b[0m \u001b[31m30.8 MB/s\u001b[0m eta \u001b[36m0:00:00\u001b[0m\n",
            "\u001b[2K     \u001b[90m━━━━━━━━━━━━━━━━━━━━━━━━━━━━━━━━━━━━━━━━\u001b[0m \u001b[32m9.9/9.9 MB\u001b[0m \u001b[31m77.5 MB/s\u001b[0m eta \u001b[36m0:00:00\u001b[0m\n",
            "\u001b[2K     \u001b[90m━━━━━━━━━━━━━━━━━━━━━━━━━━━━━━━━━━━━━━━━\u001b[0m \u001b[32m9.9/9.9 MB\u001b[0m \u001b[31m70.0 MB/s\u001b[0m eta \u001b[36m0:00:00\u001b[0m\n",
            "\u001b[2K     \u001b[90m━━━━━━━━━━━━━━━━━━━━━━━━━━━━━━━━━━━━━━━━\u001b[0m \u001b[32m9.9/9.9 MB\u001b[0m \u001b[31m76.6 MB/s\u001b[0m eta \u001b[36m0:00:00\u001b[0m\n",
            "\u001b[2K     \u001b[90m━━━━━━━━━━━━━━━━━━━━━━━━━━━━━━━━━━━━━━━━\u001b[0m \u001b[32m9.9/9.9 MB\u001b[0m \u001b[31m19.6 MB/s\u001b[0m eta \u001b[36m0:00:00\u001b[0m\n",
            "\u001b[2K     \u001b[90m━━━━━━━━━━━━━━━━━━━━━━━━━━━━━━━━━━━━━━━━\u001b[0m \u001b[32m9.9/9.9 MB\u001b[0m \u001b[31m72.8 MB/s\u001b[0m eta \u001b[36m0:00:00\u001b[0m\n",
            "\u001b[2K     \u001b[90m━━━━━━━━━━━━━━━━━━━━━━━━━━━━━━━━━━━━━━━━\u001b[0m \u001b[32m9.9/9.9 MB\u001b[0m \u001b[31m87.2 MB/s\u001b[0m eta \u001b[36m0:00:00\u001b[0m\n",
            "\u001b[2K     \u001b[90m━━━━━━━━━━━━━━━━━━━━━━━━━━━━━━━━━━━━━━━━\u001b[0m \u001b[32m9.9/9.9 MB\u001b[0m \u001b[31m89.1 MB/s\u001b[0m eta \u001b[36m0:00:00\u001b[0m\n",
            "\u001b[?25h  Building wheel for pyngrok (setup.py) ... \u001b[?25l\u001b[?25hdone\n",
            "\u001b[31mERROR: pip's dependency resolver does not currently take into account all the packages that are installed. This behaviour is the source of the following dependency conflicts.\n",
            "google-colab 1.0.0 requires notebook==6.4.8, but you have notebook 6.4.5 which is incompatible.\n",
            "flask 2.2.4 requires click>=8.0, but you have click 7.1.2 which is incompatible.\u001b[0m\u001b[31m\n",
            "\u001b[2K     \u001b[90m━━━━━━━━━━━━━━━━━━━━━━━━━━━━━━━━━━━━━━━━\u001b[0m \u001b[32m57.0/57.0 kB\u001b[0m \u001b[31m2.1 MB/s\u001b[0m eta \u001b[36m0:00:00\u001b[0m\n",
            "\u001b[2K     \u001b[90m━━━━━━━━━━━━━━━━━━━━━━━━━━━━━━━━━━━━━━━━\u001b[0m \u001b[32m66.9/66.9 kB\u001b[0m \u001b[31m6.4 MB/s\u001b[0m eta \u001b[36m0:00:00\u001b[0m\n",
            "\u001b[?25h"
          ]
        }
      ]
    },
    {
      "cell_type": "markdown",
      "source": [
        "#**Importação**"
      ],
      "metadata": {
        "id": "bW0MfENY8IvY"
      }
    },
    {
      "cell_type": "code",
      "source": [
        "from colabcode import ColabCode \n",
        "from fastapi import FastAPI \n",
        "\"\"\"\n",
        "Permite que uma aplicação Web seja executada numa origem e acesse recursos de \n",
        "outra origem diferente.\n",
        "\"\"\"\n",
        "from fastapi.middleware.cors import CORSMiddleware \n",
        "from pyngrok import ngrok \n",
        "from pydantic import BaseModel\n",
        "from typing import List\n",
        "import sqlite3 \n",
        "from sqlite3 import Error"
      ],
      "metadata": {
        "id": "aXxtudWS6e07"
      },
      "execution_count": 4,
      "outputs": []
    },
    {
      "cell_type": "markdown",
      "source": [
        "#**Atutenticação**"
      ],
      "metadata": {
        "id": "GxSSYv6u9QOQ"
      }
    },
    {
      "cell_type": "code",
      "source": [
        "# Copiar o token de autenticação no site do ngrok:\n",
        "ngrok.set_auth_token(\"2PPvqIVSpzl5W96ghVTMshju8Ir_7jqg2Hj5VGfnnT3CNPmqd\")"
      ],
      "metadata": {
        "colab": {
          "base_uri": "https://localhost:8080/"
        },
        "id": "0Xp1lA-N9WNs",
        "outputId": "41041283-9231-42e8-f87b-f6d0bc971682"
      },
      "execution_count": 5,
      "outputs": [
        {
          "output_type": "stream",
          "name": "stdout",
          "text": []
        }
      ]
    },
    {
      "cell_type": "markdown",
      "source": [
        "#**Banco de Dados**"
      ],
      "metadata": {
        "id": "YBx4641hVXPO"
      }
    },
    {
      "cell_type": "code",
      "source": [
        "# Criar conexão com o Banco de Dados:\n",
        "import sqlite3\n",
        "\n",
        "try:\n",
        "    datasource = sqlite3.connect('escola.db')\n",
        "except Error as e:\n",
        "    print(e)"
      ],
      "metadata": {
        "id": "LD8qK_NyVdxU"
      },
      "execution_count": 6,
      "outputs": []
    },
    {
      "cell_type": "code",
      "source": [
        "# Retornar um cursos:\n",
        "with datasource:\n",
        "    cursor = datasource.cursor()"
      ],
      "metadata": {
        "id": "Z8gIgV7WV7ms"
      },
      "execution_count": 7,
      "outputs": []
    },
    {
      "cell_type": "code",
      "source": [
        "ddl_estudantes = \"\"\"\n",
        "    CREATE TABLE IF NOT EXISTS estudantes (\n",
        "        id INTEGER PRIMARY KEY AUTOINCREMENT,\n",
        "        cpf VARCHAR(11) NOT NULL,\n",
        "        nome VARCHAR(100) NOT NULL,\n",
        "        telefone VARCHAR(20)\n",
        "    );\n",
        "\"\"\"\n",
        "\n",
        "ddl_cursos = \"\"\"\n",
        "    CREATE TABLE IF NOT EXISTS cursos (\n",
        "        id INTEGER PRIMARY KEY AUTOINCREMENT,\n",
        "        nome VARCHAR(100) NOT NULL,\n",
        "        descricao VARCHAR(200),\n",
        "        coordenador VARCHAR(100),\n",
        "        carga_horaria INTEGER\n",
        "    );\n",
        "\"\"\"\n",
        "\n",
        "ddl_disciplinas = \"\"\"\n",
        "    CREATE TABLE IF NOT EXISTS disciplinas (\n",
        "        id INTEGER PRIMARY KEY AUTOINCREMENT,\n",
        "        nome VARCHAR(100) NOT NULL,\n",
        "        carga_horaria INTEGER\n",
        "    );\n",
        "\"\"\"\n",
        "with datasource:\n",
        "    cursor.execute(ddl_estudantes)\n",
        "    cursor.execute(ddl_cursos)\n",
        "    cursor.execute(ddl_disciplinas)"
      ],
      "metadata": {
        "id": "fjL3ZDR2Wu4N"
      },
      "execution_count": 8,
      "outputs": []
    },
    {
      "cell_type": "code",
      "source": [
        "dml_estudantes = \"INSERT INTO estudantes (cpf, nome, telefone) VALUES (?, ?, ?)\"\n",
        "dml_cursos = \"INSERT INTO cursos (nome, descricao, coordenador, carga_horaria) VALUES (?, ?, ?, ?)\"\n",
        "dml_disciplinas = \"INSERT INTO disciplinas (nome, carga_horaria) VALUES (?, ?)\""
      ],
      "metadata": {
        "id": "fN0My7CDZwpV"
      },
      "execution_count": 10,
      "outputs": []
    },
    {
      "cell_type": "code",
      "source": [
        "with datasource:\n",
        "    cursor.execute(dml_estudantes, ('12345678901', 'Fulano de Tal', '31999999999'))\n",
        "    cursor.execute(dml_estudantes, ('23456789012', 'Beltrano de Tal', '31988888888'))\n",
        "    cursor.execute(dml_cursos, ('Curso de Programação', 'Curso de programação básica', 'Ciclano de Tal', 40))\n",
        "    cursor.execute(dml_cursos, ('Curso de Banco de Dados', 'Curso de banco de dados básico', 'Ciclano de Tal', 30))\n",
        "    cursor.execute(dml_disciplinas, ('Introdução à Programação', 20))\n",
        "    cursor.execute(dml_disciplinas, ('Banco de Dados I', 30))\n",
        "    datasource.commit()\n",
        "\n",
        "with datasource:\n",
        "    sql = \"SELECT * FROM estudantes\"\n",
        "    estudantes = cursor.execute(sql)\n",
        "    for estudante in estudantes:\n",
        "        print(estudante)\n",
        "\n",
        "    sql = \"SELECT * FROM cursos\"\n",
        "    cursos = cursor.execute(sql)\n",
        "    for curso in cursos:\n",
        "        print(curso)\n",
        "\n",
        "    sql = \"SELECT * FROM disciplinas\"\n",
        "    disciplinas = cursor.execute(sql)\n",
        "    for disciplina in disciplinas:\n",
        "        print(disciplina)"
      ],
      "metadata": {
        "colab": {
          "base_uri": "https://localhost:8080/"
        },
        "id": "yLoX8RiydP7B",
        "outputId": "5c5905c2-57b6-40f3-8390-fafadf48fc16"
      },
      "execution_count": 11,
      "outputs": [
        {
          "output_type": "stream",
          "name": "stdout",
          "text": [
            "(1, '12345678901', 'Fulano de Tal', '31999999999')\n",
            "(2, '23456789012', 'Beltrano de Tal', '31988888888')\n",
            "(1, 'Curso de Programação', 'Curso de programação básica', 'Ciclano de Tal', 40)\n",
            "(2, 'Curso de Banco de Dados', 'Curso de banco de dados básico', 'Ciclano de Tal', 30)\n",
            "(1, 'Introdução à Programação', 20)\n",
            "(2, 'Banco de Dados I', 30)\n"
          ]
        }
      ]
    },
    {
      "cell_type": "code",
      "source": [
        "dml_estudantes = \"UPDATE estudantes SET cpf = ?, nome = ?, telefone = ? WHERE id = ?\"\n",
        "dml_cursos = \"UPDATE cursos SET nome = ?, descricao = ?, coordenador = ?, carga_horaria = ? WHERE id = ?\"\n",
        "dml_disciplinas = \"UPDATE disciplinas SET nome = ?, carga_horaria = ? WHERE id = ?\""
      ],
      "metadata": {
        "id": "pRd2eXkXgK96"
      },
      "execution_count": 12,
      "outputs": []
    },
    {
      "cell_type": "code",
      "source": [
        "with datasource:\n",
        "    cursor.execute(dml_estudantes, ('98765432109', 'Fulana de Tal', '31977777777', 1))\n",
        "    cursor.execute(dml_cursos, ('Curso de Programação em Python', 'Curso de programação em Python básico', 'Ciclano de Tal', 40, 1))\n",
        "    cursor.execute(dml_disciplinas, ('Introdução à Programação em Python', 30, 1))\n",
        "    datasource.commit()\n",
        "\n",
        "with datasource:\n",
        "    sql = \"SELECT * FROM estudantes\"\n",
        "    estudantes = cursor.execute(sql)"
      ],
      "metadata": {
        "id": "_gs9-Wb8K-TE"
      },
      "execution_count": 13,
      "outputs": []
    },
    {
      "cell_type": "markdown",
      "source": [
        "#**API**"
      ],
      "metadata": {
        "id": "T6r5fJcI9hpo"
      }
    },
    {
      "cell_type": "code",
      "source": [
        "'''\n",
        "Métodos do protocolo HTTP (CRUD):\n",
        " POST: criar (enviar) dados no servidor (create).\n",
        " GET: ler dados (read).\n",
        " PUT: atualizar dados no servidor (update).\n",
        " DELETE: remover dados no servidor (delete)\n",
        "'''\n",
        "app = FastAPI()\n",
        "\n",
        "app.add_middleware(\n",
        "    CORSMiddleware,\n",
        "    allow_origins=['*'],\n",
        "    allow_credentials=True,\n",
        "    allow_methods=['*'],\n",
        "    allow_headers=['*'],\n",
        ")\n",
        "\n",
        "class Item(BaseModel):\n",
        "    nome: str\n",
        "    descricao: str | None\n",
        "    preco: float | None\n",
        "    imposto: float | None\n",
        "    categorias: List[str] | None\n",
        "\n",
        "class Categoria(BaseModel):\n",
        "    nome: str\n",
        "\n",
        "produtos = []\n",
        "\n",
        "@app.post(\"/produtos\")\n",
        "async def criar_produto(item: Item):\n",
        "    produtos.append(item)\n",
        "    return {\"mensagem\": \"Produto criado com sucesso.\"}\n",
        "\n",
        "@app.get(\"/produtos\")\n",
        "async def listar_produtos():\n",
        "    return {\"produtos\": produtos}\n",
        "\n",
        "@app.get(\"/produtos/{produto_id}\")\n",
        "async def mostrar_produto(produto_id: int):\n",
        "    try:\n",
        "        produto = produtos[produto_id]\n",
        "        return produto\n",
        "    except IndexError:\n",
        "        raise HTTPException(status_code=404, detail=\"Produto não encontrado.\")\n",
        "\n",
        "@app.put(\"/produtos/{produto_id}\")\n",
        "async def atualizar_produto(produto_id: int, item: Item):\n",
        "    try:\n",
        "        produtos[produto_id] = item\n",
        "        return {\"mensagem\": \"Produto atualizado com sucesso.\"}\n",
        "    except IndexError:\n",
        "        raise HTTPException(status_code=404, detail=\"Produto não encontrado.\")\n",
        "\n",
        "@app.delete(\"/produtos/{produto_id}\")\n",
        "async def deletar_produto(produto_id: int):\n",
        "    try:\n",
        "        produtos.pop(produto_id)\n",
        "        return {\"mensagem\": \"Produto deletado com sucesso.\"}\n",
        "    except IndexError:\n",
        "        raise HTTPException(status_code=404, detail=\"Produto não encontrado.\")\n",
        "\n",
        "categorias = []\n",
        "\n",
        "@app.post(\"/categorias\")\n",
        "async def criar_categoria(categoria: Categoria):\n",
        "    categorias.append(categoria)\n",
        "    return {\"mensagem\": \"Categoria criada com sucesso.\"}\n",
        "\n",
        "@app.get(\"/categorias\")\n",
        "async def listar_categorias():\n",
        "    return {\"categorias\": categorias}\n",
        "\n",
        "@app.get(\"/categorias/{categoria_id}\")\n",
        "async def mostrar_categoria(categoria_id: int):\n",
        "    try:\n",
        "        categoria = categorias[categoria_id]\n",
        "        return categoria\n",
        "    except IndexError:\n",
        "        raise HTTPException(status_code=404, detail=\"Categoria não encontrada.\")\n",
        "\n",
        "@app.put(\"/categorias/{categoria_id}\")\n",
        "async def atualizar_categoria(categoria_id: int, categoria: Categoria):\n",
        "    try:\n",
        "        categorias[categoria_id] = categoria\n",
        "        return {\"mensagem\": \"Categoria atualizada com sucesso.\"}\n",
        "    except IndexError:\n",
        "        raise HTTPException(status_code=404, detail=\"Categoria não encontrada.\")\n",
        "\n",
        "@app.delete(\"/categorias/{categoria_id}\")\n",
        "async def deletar_categoria(categoria_id: int):\n",
        "    try:\n",
        "        categorias.pop(categoria_id)\n",
        "        return {\"mensagem\": \"Categoria deletada com sucesso.\"}\n",
        "    except IndexError:\n",
        "        raise HTTPException(status_code=404, detail=\"Categoria não encontrada.\")\n"
      ],
      "metadata": {
        "id": "J40sjCSQ9lsK"
      },
      "execution_count": 14,
      "outputs": []
    },
    {
      "cell_type": "markdown",
      "source": [
        "#**Executar**"
      ],
      "metadata": {
        "id": "wtQ0U9Vp_0jt"
      }
    },
    {
      "cell_type": "code",
      "source": [
        "cc = ColabCode(port=12000, code=False)\n",
        "cc.run_app(app=app)"
      ],
      "metadata": {
        "colab": {
          "base_uri": "https://localhost:8080/"
        },
        "id": "tTJXhate_4T3",
        "outputId": "57aff16f-ce83-4e5e-d0ef-4467144c400d"
      },
      "execution_count": null,
      "outputs": [
        {
          "output_type": "stream",
          "name": "stderr",
          "text": [
            "WARNING:pyngrok.process.ngrok:t=2023-05-06T17:46:52+0000 lvl=warn msg=\"ngrok config file found at legacy location, move to XDG location\" xdg_path=/root/.config/ngrok/ngrok.yml legacy_path=/root/.ngrok2/ngrok.yml\n",
            "INFO:     Started server process [324]\n",
            "INFO:uvicorn.error:Started server process [324]\n",
            "INFO:     Waiting for application startup.\n",
            "INFO:uvicorn.error:Waiting for application startup.\n",
            "INFO:     Application startup complete.\n",
            "INFO:uvicorn.error:Application startup complete.\n",
            "INFO:     Uvicorn running on http://127.0.0.1:12000 (Press CTRL+C to quit)\n",
            "INFO:uvicorn.error:Uvicorn running on http://127.0.0.1:12000 (Press CTRL+C to quit)\n"
          ]
        },
        {
          "output_type": "stream",
          "name": "stdout",
          "text": [
            "Public URL: NgrokTunnel: \"https://c5ca-35-230-113-161.ngrok-free.app\" -> \"http://localhost:12000\"\n"
          ]
        }
      ]
    }
  ]
}